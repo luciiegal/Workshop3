{
 "cells": [
  {
   "cell_type": "code",
   "execution_count": 6,
   "metadata": {},
   "outputs": [
    {
     "name": "stdout",
     "output_type": "stream",
     "text": [
      "Model accuracy: 100.00%\n"
     ]
    }
   ],
   "source": [
    "from sklearn.datasets import load_iris\n",
    "from sklearn.model_selection import train_test_split\n",
    "from sklearn.linear_model import LogisticRegression\n",
    "from sklearn.metrics import accuracy_score\n",
    "\n",
    "# Load the Iris dataset\n",
    "iris = load_iris()\n",
    "X, y = iris.data, iris.target\n",
    "\n",
    "# Split the dataset into training and testing sets\n",
    "X_train, X_test, y_train, y_test = train_test_split(X, y, test_size=0.2, random_state=42)\n",
    "\n",
    "# Initialize the Logistic Regression model\n",
    "model = LogisticRegression(max_iter=200)\n",
    "\n",
    "# Train the model on the training set\n",
    "model.fit(X_train, y_train)\n",
    "\n",
    "# Predict on the testing set\n",
    "y_pred = model.predict(X_test)\n",
    "\n",
    "# Calculate the accuracy of the model\n",
    "accuracy = accuracy_score(y_test, y_pred)\n",
    "print(f\"Model accuracy: {accuracy * 100:.2f}%\")\n"
   ]
  },
  {
   "cell_type": "code",
   "execution_count": 5,
   "metadata": {},
   "outputs": [
    {
     "name": "stdout",
     "output_type": "stream",
     "text": [
      " * Serving Flask app '__main__'\n",
      " * Debug mode: off\n"
     ]
    },
    {
     "name": "stderr",
     "output_type": "stream",
     "text": [
      "WARNING: This is a development server. Do not use it in a production deployment. Use a production WSGI server instead.\n",
      " * Running on http://127.0.0.1:5000\n",
      "Press CTRL+C to quit\n"
     ]
    }
   ],
   "source": [
    "from flask import Flask, request, jsonify\n",
    "from sklearn.datasets import load_iris\n",
    "from sklearn.linear_model import LogisticRegression\n",
    "import numpy as np\n",
    "\n",
    "# Initialize Flask app\n",
    "app = Flask(__name__)\n",
    "\n",
    "# Load the Iris dataset and train the Logistic Regression model\n",
    "iris = load_iris()\n",
    "X, y = iris.data, iris.target\n",
    "model = LogisticRegression(max_iter=200)\n",
    "model.fit(X, y)\n",
    "\n",
    "# Define the predict route\n",
    "@app.route('/predict', methods=['GET'])\n",
    "def predict():\n",
    "    # Extract feature values from the request arguments\n",
    "    sepal_length = request.args.get('sepal_length', type=float)\n",
    "    sepal_width = request.args.get('sepal_width', type=float)\n",
    "    petal_length = request.args.get('petal_length', type=float)\n",
    "    petal_width = request.args.get('petal_width', type=float)\n",
    "    \n",
    "    # Check if any of the parameters are None (which means they weren't provided in the request)\n",
    "    if None in [sepal_length, sepal_width, petal_length, petal_width]:\n",
    "        return jsonify({\"error\": \"Missing parameters, please provide sepal_length, sepal_width, petal_length, and petal_width.\"}), 400\n",
    "\n",
    "    # Make a prediction\n",
    "    features = np.array([[sepal_length, sepal_width, petal_length, petal_width]])\n",
    "    prediction = model.predict(features)\n",
    "    species = iris.target_names[prediction][0]\n",
    "    \n",
    "    # Return the prediction in a standardized JSON response format\n",
    "    response = {\n",
    "        \"prediction\": species\n",
    "    }\n",
    "    return jsonify(response)\n",
    "\n",
    "# Condition to check if the script is executed directly (and not imported)\n",
    "if __name__ == '__main__':\n",
    "    # If running in debug mode causes issues, consider turning it off or handling it differently\n",
    "    app.run(debug=False)  # Set to False to avoid auto-restart issues in certain environments\n"
   ]
  },
  {
   "cell_type": "code",
   "execution_count": 4,
   "metadata": {},
   "outputs": [
    {
     "name": "stdout",
     "output_type": "stream",
     "text": [
      " * Serving Flask app '__main__'\n",
      " * Debug mode: off\n"
     ]
    },
    {
     "name": "stderr",
     "output_type": "stream",
     "text": [
      "WARNING: This is a development server. Do not use it in a production deployment. Use a production WSGI server instead.\n",
      " * Running on http://127.0.0.1:5000\n",
      "Press CTRL+C to quit\n"
     ]
    },
    {
     "name": "stderr",
     "output_type": "stream",
     "text": [
      "127.0.0.1 - - [05/Feb/2024 16:44:46] \"GET / HTTP/1.1\" 404 -\n",
      "127.0.0.1 - - [05/Feb/2024 16:44:51] \"GET /predict HTTP/1.1\" 200 -\n"
     ]
    }
   ],
   "source": [
    "from flask import Flask, request, jsonify\n",
    "from sklearn.datasets import load_iris\n",
    "from sklearn.linear_model import LogisticRegression\n",
    "import numpy as np\n",
    "\n",
    "# Initialize Flask app\n",
    "app = Flask(__name__)\n",
    "\n",
    "# Load the Iris dataset and train the Logistic Regression model\n",
    "iris = load_iris()\n",
    "X, y = iris.data, iris.target\n",
    "model = LogisticRegression(max_iter=200)\n",
    "model.fit(X, y)\n",
    "\n",
    "# Define the predict route\n",
    "@app.route('/predict', methods=['GET'])\n",
    "def predict():\n",
    "    # Example values for a prediction\n",
    "    sepal_length = 5.9  # Example sepal length\n",
    "    sepal_width = 3.0   # Example sepal width\n",
    "    petal_length = 5.1  # Example petal length\n",
    "    petal_width = 1.8   # Example petal width\n",
    "    \n",
    "    # Make a prediction with predefined values\n",
    "    features = np.array([[sepal_length, sepal_width, petal_length, petal_width]])\n",
    "    probabilities = model.predict_proba(features)[0]  # Get probabilities for each class\n",
    "    prediction = model.predict(features)\n",
    "    species = iris.target_names[prediction][0]\n",
    "    \n",
    "    # Prepare the probabilities in a readable format\n",
    "    probabilities_dict = {iris.target_names[i]: f\"{probabilities[i] * 100:.2f}%\" for i in range(len(probabilities))}\n",
    "    \n",
    "    # Return the prediction and probabilities in a standardized JSON response format\n",
    "    response = {\n",
    "        \"prediction\": species,\n",
    "        \"probabilities\": probabilities_dict\n",
    "    }\n",
    "    return jsonify(response)\n",
    "\n",
    "if __name__ == '__main__':\n",
    "    app.run(debug=False)  # Set debug to False for production-like environment testing\n"
   ]
  }
 ],
 "metadata": {
  "kernelspec": {
   "display_name": "Python 3",
   "language": "python",
   "name": "python3"
  },
  "language_info": {
   "codemirror_mode": {
    "name": "ipython",
    "version": 3
   },
   "file_extension": ".py",
   "mimetype": "text/x-python",
   "name": "python",
   "nbconvert_exporter": "python",
   "pygments_lexer": "ipython3",
   "version": "3.12.1"
  }
 },
 "nbformat": 4,
 "nbformat_minor": 2
}
